{
 "cells": [
  {
   "cell_type": "code",
   "execution_count": 566,
   "metadata": {},
   "outputs": [],
   "source": [
    "import matplotlib.pyplot as plt\n",
    "import torch\n",
    "from torchvision import datasets, transforms\n",
    "import helper\n",
    "from time import sleep\n",
    "import numpy as np"
   ]
  },
  {
   "cell_type": "markdown",
   "metadata": {},
   "source": [
    "## Load Data\n",
    "\n",
    "- Created a batch of 32 for each train and test set\n",
    "- 0 is Rose\n",
    "- 1 is Sunflower"
   ]
  },
  {
   "cell_type": "code",
   "execution_count": 576,
   "metadata": {},
   "outputs": [],
   "source": [
    "data_dir = '/home/rohit/Desktop/flowers'\n",
    "m = 100 # batch size\n",
    "# Define transforms for the training data and testing data\n",
    "train_transforms = transforms.Compose([transforms.RandomRotation(10),\n",
    "                                       transforms.Resize((255, 255)),\n",
    "                                       transforms.RandomHorizontalFlip(),\n",
    "                                       transforms.ToTensor(),\n",
    "                                      ])\n",
    "\n",
    "test_transforms = transforms.Compose([transforms.Resize((255, 255)),\n",
    "                                     transforms.ToTensor()])\n",
    "\n",
    "\n",
    "# Pass transforms in here, then run the next cell to see how the transforms look\n",
    "train_data = datasets.ImageFolder(data_dir + '/train', transform=train_transforms)\n",
    "test_data = datasets.ImageFolder(data_dir + '/test', transform=test_transforms)\n",
    "\n",
    "trainloader = torch.utils.data.DataLoader(train_data, batch_size=m, shuffle = True)\n",
    "testloader = torch.utils.data.DataLoader(test_data, batch_size=90)"
   ]
  },
  {
   "cell_type": "markdown",
   "metadata": {},
   "source": [
    "## Iterate through all images in batch\n",
    "1. Train batch by batch\n",
    "2. FLatten images\n",
    "3. Intializing weights and biases to zeros\n",
    "4. Transfer to GPU"
   ]
  },
  {
   "cell_type": "code",
   "execution_count": 577,
   "metadata": {},
   "outputs": [],
   "source": [
    "w = torch.randn((nx,1)) #weights\n",
    "b = torch.randn(1)#biases"
   ]
  },
  {
   "cell_type": "code",
   "execution_count": 578,
   "metadata": {},
   "outputs": [
    {
     "name": "stdout",
     "output_type": "stream",
     "text": [
      "initial image size =  torch.Size([100, 3, 255, 255])\n",
      "flattened image size =  torch.Size([195075, 100])\n"
     ]
    }
   ],
   "source": [
    "data_iter = iter(trainloader)\n",
    "images, labels = next(data_iter)\n",
    "print('initial image size = ', images.shape)\n",
    "images = images.reshape(m,-1).t() /255\n",
    "print('flattened image size = ', images.shape)\n",
    "(nx,m) = images.shape # m is no of training exmples "
   ]
  },
  {
   "cell_type": "code",
   "execution_count": 579,
   "metadata": {},
   "outputs": [],
   "source": [
    "X = images # (nx x m)\n",
    "Y = labels \n",
    "Y = torch.reshape(Y,(1,m)) # (1 x m)\n",
    "Y = Y.float()"
   ]
  },
  {
   "cell_type": "markdown",
   "metadata": {},
   "source": [
    "### Helper functions\n",
    "\n",
    "\n",
    "\n",
    "\n",
    "\n",
    "$sigmoid( w^T x + b) = \\frac{1}{1 + e^{-(w^T x + b)}}$"
   ]
  },
  {
   "cell_type": "code",
   "execution_count": 580,
   "metadata": {},
   "outputs": [],
   "source": [
    "def sigmoid(x):\n",
    "    return (1 / (1+torch.exp(-x)))"
   ]
  },
  {
   "cell_type": "markdown",
   "metadata": {},
   "source": [
    "Forward Propagation:\n",
    "- Get X\n",
    "- Compute $A = \\sigma(w^T X + b) = (a^{(1)}, a^{(2)}, ..., a^{(m-1)}, a^{(m)})$\n",
    "- Calculate the cost function: $J = -\\frac{1}{m}\\sum_{i=1}^{m}y^{(i)}\\log(a^{(i)})+(1-y^{(i)})\\log(1-a^{(i)})$\n",
    "\n",
    "Formulas:\n",
    "\n",
    "$$ \\frac{\\partial J}{\\partial w} = \\frac{1}{m}X(A-Y)^T\\tag{7}$$\n",
    "$$ \\frac{\\partial J}{\\partial b} = \\frac{1}{m} \\sum_{i=1}^m (a^{(i)}-y^{(i)})\\tag{8}$$"
   ]
  },
  {
   "cell_type": "code",
   "execution_count": 581,
   "metadata": {},
   "outputs": [],
   "source": [
    "def parameters(w, b, X, Y):\n",
    "    A = sigmoid(torch.mm(w.t(), X)+b) # dimension (1 x m)\n",
    "    cost = -(torch.mm(Y , torch.log(A.t())) + torch.mm((1-Y) , torch.log( (1-A).t() ) )) / m\n",
    "    dz = A - Y\n",
    "    db = (torch.sum(dz))  /  m\n",
    "    dw = torch.mm(X, dz.t())\n",
    "    \n",
    "    assert(dw.shape == w.shape)\n",
    "    \n",
    "    return cost,dw,db"
   ]
  },
  {
   "cell_type": "code",
   "execution_count": 582,
   "metadata": {
    "scrolled": true
   },
   "outputs": [
    {
     "data": {
      "text/plain": [
       "(tensor([[1.0165]]), tensor([[0.0013],\n",
       "         [0.0057],\n",
       "         [0.0104],\n",
       "         ...,\n",
       "         [0.0117],\n",
       "         [0.0064],\n",
       "         [0.0014]]), tensor(0.3775))"
      ]
     },
     "execution_count": 582,
     "metadata": {},
     "output_type": "execute_result"
    }
   ],
   "source": [
    "parameters(w, b, X, Y)"
   ]
  },
  {
   "cell_type": "code",
   "execution_count": 583,
   "metadata": {},
   "outputs": [],
   "source": [
    "def optimize(w, b, X, Y, num_iterations, alpha):\n",
    "    \n",
    "    cost_arr = []\n",
    "    for i in range(num_iterations):\n",
    "        \n",
    "        cost,dw,db = parameters(w, b, X, Y)\n",
    "        w = w - alpha * dw\n",
    "        b = b - alpha * db\n",
    "        \n",
    "        if num_iterations % 1000 == 0:\n",
    "            cost_arr.append(cost)\n",
    "            \n",
    "    return cost_arr, w, b\n"
   ]
  },
  {
   "cell_type": "code",
   "execution_count": 584,
   "metadata": {},
   "outputs": [
    {
     "data": {
      "text/plain": [
       "Text(0.5, 0, 'no. of iteration')"
      ]
     },
     "execution_count": 584,
     "metadata": {},
     "output_type": "execute_result"
    },
    {
     "data": {
      "image/png": "[encoded data removed]",
      "text/plain": [
       "<Figure size 432x288 with 1 Axes>"
      ]
     },
     "metadata": {
      "needs_background": "light"
     },
     "output_type": "display_data"
    }
   ],
   "source": [
    "cost_arr, w, b = optimize(w, b, X, Y, 2000, 0.1)\n",
    "plt.plot(cost_arr)\n",
    "plt.ylabel('Cost')\n",
    "plt.xlabel('no. of iteration')"
   ]
  },
  {
   "cell_type": "code",
   "execution_count": 585,
   "metadata": {},
   "outputs": [],
   "source": [
    "def predict(w,b,X):\n",
    "    A = sigmoid(torch.mm(w.t(), X)+b)\n",
    "    \n",
    "    Y_prediction = torch.zeros((1,m))\n",
    "    for i in range(m):\n",
    "        \n",
    "        if A[0,i] > 0.5:\n",
    "            Y_prediction[0,i] = 1\n",
    "        else:\n",
    "            Y_prediction[0,i] = 0\n",
    "            \n",
    "    return Y_prediction"
   ]
  },
  {
   "cell_type": "code",
   "execution_count": 586,
   "metadata": {},
   "outputs": [
    {
     "name": "stdout",
     "output_type": "stream",
     "text": [
      "test accuracy: 100.0 %\n"
     ]
    }
   ],
   "source": [
    "Y_prediction_train = predict(w, b, X)\n",
    "print(\"test accuracy: {} %\".format(100 - torch.mean(torch.abs(Y_prediction_train - Y)) * 100))"
   ]
  },
  {
   "cell_type": "code",
   "execution_count": 587,
   "metadata": {},
   "outputs": [
    {
     "name": "stdout",
     "output_type": "stream",
     "text": [
      "initial image size =  torch.Size([90, 3, 255, 255])\n",
      "flattened image size =  torch.Size([195075, 90])\n"
     ]
    }
   ],
   "source": [
    "m = 90\n",
    "data_iter = iter(testloader)\n",
    "images, labels = next(data_iter)\n",
    "print('initial image size = ', images.shape)\n",
    "images = images.reshape(m,-1).t() /255\n",
    "print('flattened image size = ', images.shape)\n",
    "(nx,m) = images.shape # m is no of training exmples \n",
    "\n",
    "X_test = images # (nx x m)\n",
    "Y_test = labels \n",
    "Y_test = torch.reshape(Y_test,(1,m)) # (1 x m)\n",
    "Y_test = Y_test.float()"
   ]
  },
  {
   "cell_type": "code",
   "execution_count": 588,
   "metadata": {},
   "outputs": [
    {
     "name": "stdout",
     "output_type": "stream",
     "text": [
      "test accuracy: 86.66666412353516 %\n"
     ]
    }
   ],
   "source": [
    "Y_prediction_test = predict(w, b, X_test)\n",
    "print(\"test accuracy: {} %\".format(100 - torch.mean(torch.abs(Y_prediction_test - Y_test)) * 100))"
   ]
  },
  {
   "cell_type": "code",
   "execution_count": 590,
   "metadata": {},
   "outputs": [
    {
     "data": {
      "text/plain": [
       "tensor([[0., 0., 0., 0., 0., 1., 0., 0., 0., 0., 1., 0., 0., 1., 0., 0., 0., 0.,\n",
       "         0., 0., 0., 0., 0., 0., 0., 0., 0., 0., 0., 0., 1., 0., 1., 0., 0., 0.,\n",
       "         1., 0., 0., 0., 0., 1., 0., 0., 0., 0., 0., 0., 0., 0., 0., 0., 0., 0.,\n",
       "         0., 0., 1., 0., 0., 0., 0., 0., 0., 0., 0., 0., 0., 0., 0., 0., 0., 0.,\n",
       "         0., 0., 0., 0., 1., 0., 1., 0., 0., 0., 0., 0., 0., 0., 0., 0., 1., 1.]])"
      ]
     },
     "execution_count": 590,
     "metadata": {},
     "output_type": "execute_result"
    }
   ],
   "source": [
    "torch.abs(Y_prediction_test - Y_test)"
   ]
  },
  {
   "cell_type": "code",
   "execution_count": null,
   "metadata": {},
   "outputs": [],
   "source": []
  }
 ],
 "metadata": {
  "kernelspec": {
   "display_name": "Python 3",
   "language": "python",
   "name": "python3"
  },
  "language_info": {
   "codemirror_mode": {
    "name": "ipython",
    "version": 3
   },
   "file_extension": ".py",
   "mimetype": "text/x-python",
   "name": "python",
   "nbconvert_exporter": "python",
   "pygments_lexer": "ipython3",
   "version": "3.7.1"
  }
 },
 "nbformat": 4,
 "nbformat_minor": 2
}
