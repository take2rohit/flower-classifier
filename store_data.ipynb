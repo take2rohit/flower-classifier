{
 "cells": [
  {
   "cell_type": "code",
   "execution_count": 1,
   "metadata": {},
   "outputs": [],
   "source": [
    "import matplotlib.pyplot as plt\n",
    "import torch\n",
    "from torchvision import datasets, transforms\n",
    "import helper\n",
    "from time import sleep\n",
    "import numpy as np"
   ]
  },
  {
   "cell_type": "markdown",
   "metadata": {},
   "source": [
    "## Load Data\n",
    "\n",
    "- Created a batch of 1200 for training set and 90 for test set\n",
    "- 0 means Rose\n",
    "- 1 means Sunflower"
   ]
  },
  {
   "cell_type": "code",
   "execution_count": 2,
   "metadata": {},
   "outputs": [],
   "source": [
    "data_dir = '/home/rohit/Desktop/flowers'\n",
    " # batch size\n",
    "# Define transforms for the training data and testing data\n",
    "train_transforms = transforms.Compose([transforms.RandomRotation(10),\n",
    "                                       transforms.Resize((255, 255)),\n",
    "                                       transforms.RandomHorizontalFlip(),\n",
    "                                       transforms.ToTensor(),\n",
    "                                      ])\n",
    "\n",
    "test_transforms = transforms.Compose([transforms.Resize((255, 255)),\n",
    "                                     transforms.ToTensor()])\n",
    "\n",
    "\n",
    "# Pass transforms in here, then run the next cell to see how the transforms look\n",
    "train_data = datasets.ImageFolder(data_dir + '/train', transform=train_transforms)\n",
    "test_data = datasets.ImageFolder(data_dir + '/test', transform=test_transforms)\n",
    "\n",
    "trainloader = torch.utils.data.DataLoader(train_data, batch_size=1200, shuffle = True)\n",
    "testloader = torch.utils.data.DataLoader(test_data, batch_size=90)"
   ]
  },
  {
   "cell_type": "markdown",
   "metadata": {},
   "source": [
    "## Iterate through all images in batch\n",
    "1. Defined dataload\n",
    "2. Flatten images\n",
    "3. Intialized weights and biases to random values\n",
    "4. Transferred all tensors to GPU"
   ]
  },
  {
   "cell_type": "code",
   "execution_count": 3,
   "metadata": {},
   "outputs": [],
   "source": [
    "def dataload(loader,m):    \n",
    "    data_iter = iter(loader)\n",
    "    images, labels = next(data_iter)\n",
    "    print('initial image size = ', images.shape)\n",
    "    images = images.reshape(m,-1).t() /255\n",
    "    print('flattened image size = ', images.shape)\n",
    "    (nx,m) = images.shape # m is no of training exmples \n",
    "    return images,labels,nx,m"
   ]
  },
  {
   "cell_type": "code",
   "execution_count": 4,
   "metadata": {
    "scrolled": false
   },
   "outputs": [
    {
     "name": "stdout",
     "output_type": "stream",
     "text": [
      "initial image size =  torch.Size([1200, 3, 255, 255])\n",
      "flattened image size =  torch.Size([195075, 1200])\n"
     ]
    }
   ],
   "source": [
    "images,labels,nx,m = dataload(trainloader,1200)\n",
    "X = images.cuda() # (nx x m)\n",
    "Y = labels.cuda() \n",
    "Y = torch.reshape(Y,(1,m)) # (1 x m)\n",
    "Y = Y.float().cuda()"
   ]
  },
  {
   "cell_type": "code",
   "execution_count": 5,
   "metadata": {},
   "outputs": [],
   "source": [
    "w = torch.randn((nx,1)).cuda() #weights\n",
    "b = torch.randn(1).cuda()#biases"
   ]
  },
  {
   "cell_type": "code",
   "execution_count": 6,
   "metadata": {},
   "outputs": [
    {
     "name": "stdout",
     "output_type": "stream",
     "text": [
      "initial image size =  torch.Size([90, 3, 255, 255])\n",
      "flattened image size =  torch.Size([195075, 90])\n"
     ]
    }
   ],
   "source": [
    "images,labels,nx,n = dataload(testloader,90)\n",
    "X_test = images.cuda() # (nx x m)\n",
    "Y_test = labels.cuda() \n",
    "Y_test = torch.reshape(Y_test,(1,n)) # (1 x m)\n",
    "Y_test = Y_test.float().cuda()"
   ]
  },
  {
   "cell_type": "markdown",
   "metadata": {},
   "source": [
    "## Helper functions\n",
    "\n",
    "\n",
    "\n",
    "\n",
    "\n",
    "$sigmoid( w^T x + b) = \\frac{1}{1 + e^{-(w^T x + b)}}$"
   ]
  },
  {
   "cell_type": "code",
   "execution_count": 17,
   "metadata": {},
   "outputs": [],
   "source": [
    "def sigmoid(x):\n",
    "    return (1 / (1+torch.exp(-x)))"
   ]
  },
  {
   "cell_type": "markdown",
   "metadata": {},
   "source": [
    "## Forward Propagation:\n",
    "\n",
    "- Get X\n",
    "- Compute $A = \\sigma(w^T X + b) = (a^{(1)}, a^{(2)}, ..., a^{(m-1)}, a^{(m)})$\n",
    "- Calculate the cost function: $J = -\\frac{1}{m}\\sum_{i=1}^{m}y^{(i)}\\log(a^{(i)})+(1-y^{(i)})\\log(1-a^{(i)})$\n",
    "\n",
    "Formulas:\n",
    "\n",
    "$$ \\frac{\\partial J}{\\partial w} = \\frac{1}{m}X(A-Y)^T\\tag{7}$$\n",
    "$$ \\frac{\\partial J}{\\partial b} = \\frac{1}{m} \\sum_{i=1}^m (a^{(i)}-y^{(i)})\\tag{8}$$"
   ]
  },
  {
   "cell_type": "code",
   "execution_count": 8,
   "metadata": {},
   "outputs": [],
   "source": [
    "def parameters(w, b, X, Y):\n",
    "    A = sigmoid(torch.mm(w.t(), X)+b) # dimension (1 x m)\n",
    "    cost = -(torch.mm(Y , torch.log(A.t())) + torch.mm((1-Y) , torch.log( (1-A).t() ) )) / m\n",
    "    dz = A - Y\n",
    "    db = (torch.sum(dz))  /  m\n",
    "    dw = torch.mm(X, dz.t())\n",
    "    \n",
    "    assert(dw.shape == w.shape)\n",
    "    \n",
    "    return cost,dw,db"
   ]
  },
  {
   "cell_type": "markdown",
   "metadata": {},
   "source": [
    "## Predicition "
   ]
  },
  {
   "cell_type": "code",
   "execution_count": 9,
   "metadata": {},
   "outputs": [],
   "source": [
    "def predict(w,b,X):\n",
    "    A = sigmoid(torch.mm(w.t(), X)+b)\n",
    "    \n",
    "    Y_prediction = torch.zeros((1,X.shape[1])).cuda()\n",
    "    for i in range(X.shape[1]):\n",
    "        \n",
    "        if A[0,i] > 0.5:\n",
    "            Y_prediction[0,i] = 1\n",
    "        else:\n",
    "            Y_prediction[0,i] = 0\n",
    "            \n",
    "    return Y_prediction"
   ]
  },
  {
   "cell_type": "markdown",
   "metadata": {},
   "source": [
    "## Training the model\n",
    "\n",
    "Given an initial value of weights, biases, iteration and learning rate, the below block of code will try to\n",
    "optimize the values of weight and biases such that we get a higher training accuracy."
   ]
  },
  {
   "cell_type": "code",
   "execution_count": 11,
   "metadata": {},
   "outputs": [],
   "source": [
    "def optimize(w, b, X, X_test, Y, num_iterations, alpha):\n",
    "    \n",
    "    cost_arr = []\n",
    "    Y_p_train = []\n",
    "    Y_p_test = []\n",
    "    for i in range(num_iterations):\n",
    "        \n",
    "        cost,dw,db = parameters(w, b, X, Y)\n",
    "        w = w - alpha * dw\n",
    "        b = b - alpha * db\n",
    "        \n",
    "        if num_iterations % 1000 == 0:\n",
    "            cost_arr.append(cost)\n",
    "            \n",
    "            Y_prediction_train = predict(w, b, X)\n",
    "            t1 = 100 - torch.mean(torch.abs(Y_prediction_train - Y)) * 100\n",
    "            Y_p_train.append(t1)\n",
    "            \n",
    "            Y_prediction_test = predict(w, b, X_test)\n",
    "            t2 = 100 - torch.mean(torch.abs(Y_prediction_test - Y_test)) * 100\n",
    "            Y_p_test.append(t2)\n",
    "            # print(\"test accuracy: \", t2, \"train accuracy: \",t1)\n",
    "    \n",
    "    return cost_arr, w, b, Y_p_train, Y_p_test"
   ]
  },
  {
   "cell_type": "markdown",
   "metadata": {},
   "source": [
    "# Calculation of Test and Train Accuracy"
   ]
  },
  {
   "cell_type": "code",
   "execution_count": 12,
   "metadata": {
    "scrolled": false
   },
   "outputs": [
    {
     "data": {
      "text/plain": [
       "<matplotlib.legend.Legend at 0x7f1e5d697d68>"
      ]
     },
     "execution_count": 12,
     "metadata": {},
     "output_type": "execute_result"
    },
    {
     "data": {
      "image/png": "[encoded data removed]",
      "text/plain": [
       "<Figure size 432x288 with 1 Axes>"
      ]
     },
     "metadata": {
      "needs_background": "light"
     },
     "output_type": "display_data"
    }
   ],
   "source": [
    "cost_arr, w, b, Y_p_train, Y_p_test = optimize(w, b, X, X_test, Y, 2000, 0.1)\n",
    "plt.ylabel('Accuracy(in %)')\n",
    "plt.xlabel('no. of iteration')\n",
    "plt.plot(Y_p_train, label = 'Train Accuracy')\n",
    "plt.plot(Y_p_test, label ='Test Accuracy')\n",
    "plt.legend()"
   ]
  },
  {
   "cell_type": "code",
   "execution_count": 22,
   "metadata": {},
   "outputs": [
    {
     "name": "stdout",
     "output_type": "stream",
     "text": [
      "Train Accuracy:  99.66666412353516 \t Test Accuracy:  87.77777862548828\n"
     ]
    }
   ],
   "source": [
    "print(\"Train Accuracy: \", float(Y_p_train[-1]), \"\\t Test Accuracy: \", float(Y_p_test[-1]))\n"
   ]
  }
 ],
 "metadata": {
  "kernelspec": {
   "display_name": "Python 3",
   "language": "python",
   "name": "python3"
  },
  "language_info": {
   "codemirror_mode": {
    "name": "ipython",
    "version": 3
   },
   "file_extension": ".py",
   "mimetype": "text/x-python",
   "name": "python",
   "nbconvert_exporter": "python",
   "pygments_lexer": "ipython3",
   "version": "3.7.1"
  }
 },
 "nbformat": 4,
 "nbformat_minor": 2
}
